{
 "cells": [
  {
   "cell_type": "code",
   "execution_count": null,
   "metadata": {
    "id": "lbrLwTw4r9jM"
   },
   "outputs": [],
   "source": []
  },
  {
   "cell_type": "markdown",
   "metadata": {
    "id": "mtZQDWxxos3J"
   },
   "source": [
    "# 30 REGULAR EXPRESSION EXERCISES!"
   ]
  },
  {
   "cell_type": "markdown",
   "metadata": {
    "id": "6jEYHJH3os3Q"
   },
   "source": [
    "Regex, you never know when they might come in handy. It's one of the \"good programmer\"'s fundamental yet a few people actually masters them.\n",
    "\n",
    "Challenge yourself in 30 exercises, just hide the solution in order not to peek ;)"
   ]
  },
  {
   "cell_type": "code",
   "execution_count": 108,
   "metadata": {
    "id": "ghj1l7sQos3R"
   },
   "outputs": [],
   "source": [
    "import re"
   ]
  },
  {
   "cell_type": "markdown",
   "metadata": {
    "id": "_tO-OHUBos3T"
   },
   "source": [
    "1) Write a Python program to check that a string contains only a certain set of characters (in this case a-z, A-Z and 0-9)."
   ]
  },
  {
   "cell_type": "code",
   "execution_count": 109,
   "metadata": {
    "colab": {
     "base_uri": "https://localhost:8080/"
    },
    "id": "cXaMTykzos3V",
    "outputId": "a73c9558-3ac4-44e9-ad0f-685a8f627983"
   },
   "outputs": [
    {
     "name": "stdout",
     "output_type": "stream",
     "text": [
      "True\n",
      "False\n"
     ]
    }
   ],
   "source": [
    "# Solution\n",
    "def is_allowed_specific_char(string):\n",
    "  # Definite a regex pattern\n",
    "    pattern = r'[a-zA-Z0-9]+'\n",
    "  # Use the pattern to search for ....\n",
    "    if re.search(pattern, string):\n",
    "        return True\n",
    "    else:\n",
    "        return False\n",
    "    \n",
    "print(is_allowed_specific_char(\"ABCDEFabcdef123450\")) # True\n",
    "print(is_allowed_specific_char(\"*&%@#!}{\")) # False"
   ]
  },
  {
   "cell_type": "markdown",
   "metadata": {
    "id": "2oae-B8tos3W"
   },
   "source": [
    "2) Write a Python program that matches a string that has an a followed by zero or more b's"
   ]
  },
  {
   "cell_type": "code",
   "execution_count": 110,
   "metadata": {
    "id": "1LHEOOMkos3X"
   },
   "outputs": [
    {
     "name": "stdout",
     "output_type": "stream",
     "text": [
      "Found a match!\n",
      "Found a match!\n",
      "Found a match!\n",
      "Not matched\n"
     ]
    }
   ],
   "source": [
    "# Solution\n",
    "def text_match(text):\n",
    "  if re.search(r'.*a.*[b]*$', text) != None:\n",
    "    return \"Found a match!\"\n",
    "  else:\n",
    "    return \"Not matched\"\n",
    "\n",
    "print(text_match(\"ac\"))   # Found a match!\n",
    "print(text_match(\"abc\"))  # Found a match!\n",
    "print(text_match(\"abbc\"))   # Found a match!\n",
    "print(text_match(\"bbc\"))  # Not matched"
   ]
  },
  {
   "cell_type": "markdown",
   "metadata": {
    "id": "AQRTCmJZos3Z"
   },
   "source": [
    "3) Write a Python program that matches a string that has an a followed by one or more b's"
   ]
  },
  {
   "cell_type": "code",
   "execution_count": 111,
   "metadata": {
    "id": "H1X2NPQYos3a"
   },
   "outputs": [
    {
     "name": "stdout",
     "output_type": "stream",
     "text": [
      "Found a match!\n",
      "Found a match!\n",
      "Not matched\n",
      "Not matched\n"
     ]
    }
   ],
   "source": [
    "# Solution\n",
    "def text_match(text):\n",
    "  if re.search(r\"ab+\", text) != None:\n",
    "    return \"Found a match!\"\n",
    "  else:\n",
    "    return \"Not matched\"\n",
    "\n",
    "print(text_match(\"ab\"))   # Found a match!\n",
    "print(text_match(\"abc\"))   # Found a match!\n",
    "print(text_match(\"ac\"))  # Not matched\n",
    "print(text_match(\"bbc\"))  # Not matched"
   ]
  },
  {
   "cell_type": "markdown",
   "metadata": {
    "id": "E902uTcRos3a"
   },
   "source": [
    "4) Write a Python program that matches a string that has an a followed by zero or one 'b'"
   ]
  },
  {
   "cell_type": "code",
   "execution_count": 112,
   "metadata": {
    "id": "xeva0fRNos3b"
   },
   "outputs": [
    {
     "name": "stdout",
     "output_type": "stream",
     "text": [
      "Found a match!\n",
      "Found a match!\n",
      "Found a match!\n",
      "Found a match!\n",
      "Found a match!\n",
      "Not matched\n"
     ]
    }
   ],
   "source": [
    "# Solution\n",
    "def text_match(text):\n",
    "  if re.search(r\"ab*\", text) != None:\n",
    "    return \"Found a match!\"\n",
    "  else:\n",
    "    return \"Not matched\"\n",
    "  \n",
    "print(text_match(\"ab\"))  # Found a match!\n",
    "print(text_match(\"abc\"))  # Found a match!\n",
    "print(text_match(\"abbc\"))  # Found a match!\n",
    "print(text_match(\"aabbc\"))  # Found a match!\n",
    "print(text_match(\"ac\"))  # Found a match!\n",
    "print(text_match(\"bbc\"))  # Not matched"
   ]
  },
  {
   "cell_type": "markdown",
   "metadata": {
    "id": "whnPaW2kos3c"
   },
   "source": [
    "5) Write a Python program that matches a string that has an a followed by three 'b'"
   ]
  },
  {
   "cell_type": "code",
   "execution_count": 113,
   "metadata": {
    "id": "0c_7S3h_os3d"
   },
   "outputs": [
    {
     "name": "stdout",
     "output_type": "stream",
     "text": [
      "Found a match!\n",
      "Found a match!\n",
      "Not matched\n",
      "Not matched\n",
      "Not matched\n"
     ]
    }
   ],
   "source": [
    "# Solution\n",
    "def text_match(text):\n",
    "  if re.search(r\"abbb\", text) != None:\n",
    "    return \"Found a match!\"\n",
    "  else:\n",
    "    return \"Not matched\"\n",
    "\n",
    "print(text_match(\"abbb\"))  # Found a match!\n",
    "print(text_match(\"aabbbbbc\"))  # Found a match!\n",
    "print(text_match(\"aabbc\"))  # Not matched\n",
    "print(text_match(\"ac\"))  # Not matched\n",
    "print(text_match(\"bbc\"))  # Not matched"
   ]
  },
  {
   "cell_type": "markdown",
   "metadata": {
    "id": "V4AsjJiCos3e"
   },
   "source": [
    "6) Write a Python program that matches a string that has an a followed by two to three 'b'."
   ]
  },
  {
   "cell_type": "code",
   "execution_count": 114,
   "metadata": {
    "id": "VjA5CXi1os3e"
   },
   "outputs": [
    {
     "name": "stdout",
     "output_type": "stream",
     "text": [
      "Not matched\n",
      "Found a match!\n",
      "Found a match!\n",
      "Not matched\n",
      "Not matched\n"
     ]
    }
   ],
   "source": [
    "# Solution\n",
    "def text_match(text):\n",
    "  if re.search(r\"a[b]{2,3}\", text) != None:\n",
    "    return \"Found a match!\"\n",
    "  else:\n",
    "    return \"Not matched\"\n",
    "    \n",
    "print(text_match(\"ab\"))  # Not matched\n",
    "print(text_match(\"aabbbbbc\"))  # Found a match!\n",
    "print(text_match(\"aabbc\"))  # Found a match!\n",
    "print(text_match(\"ac\"))  # Not matched\n",
    "print(text_match(\"bbc\"))  # Not matched"
   ]
  },
  {
   "cell_type": "markdown",
   "metadata": {
    "id": "kX7sLRavos3f"
   },
   "source": [
    "7) Write a Python program to find sequences of lowercase letters joined with a underscore."
   ]
  },
  {
   "cell_type": "code",
   "execution_count": 115,
   "metadata": {
    "id": "rbxk35n7os3g",
    "scrolled": true
   },
   "outputs": [
    {
     "name": "stdout",
     "output_type": "stream",
     "text": [
      "Found a match!\n",
      "not matched\n",
      "not matched\n"
     ]
    }
   ],
   "source": [
    "# Solution\n",
    "def text_match(text):\n",
    "  if re.search(r\"^[a-z]+_[a-z]+$\", text):\n",
    "    return \"Found a match!\"\n",
    "  else:\n",
    "    return \"not matched\"\n",
    "\n",
    "print(text_match(\"aab_cbbbc\"))  # Found a match!\n",
    "print(text_match(\"aab_Abbbc\"))  # Not matched\n",
    "print(text_match(\"Aaab_abbbc\"))  # Not matched"
   ]
  },
  {
   "cell_type": "markdown",
   "metadata": {
    "id": "H4sat-Rfos3g"
   },
   "source": [
    "8) Write a Python program to find the sequences of one upper case letter followed by lower case letters."
   ]
  },
  {
   "cell_type": "code",
   "execution_count": 116,
   "metadata": {
    "id": "oeUiVHGVos3h"
   },
   "outputs": [
    {
     "name": "stdout",
     "output_type": "stream",
     "text": [
      "Not matched\n",
      "Found a match!\n",
      "Found a match!\n"
     ]
    }
   ],
   "source": [
    "# Solution\n",
    "def text_match(text):\n",
    "  if re.search(r\"[A-Z][a-z]+\", text) != None:\n",
    "    return \"Found a match!\"\n",
    "  else:\n",
    "    return \"Not matched\"\n",
    "\n",
    "print(text_match(\"aab_cbbbc\"))  # Not matched\n",
    "print(text_match(\"aab_Abbbc\"))  # Found a match!\n",
    "print(text_match(\"Aaab_abbbc\"))  # Found a match!"
   ]
  },
  {
   "cell_type": "markdown",
   "metadata": {
    "id": "RgNBl7aEos3h"
   },
   "source": [
    "9) Write a Python program that matches a string that has an 'a' followed by anything, ending in 'b'."
   ]
  },
  {
   "cell_type": "code",
   "execution_count": 117,
   "metadata": {
    "id": "YbCsos7Jos3i"
   },
   "outputs": [
    {
     "name": "stdout",
     "output_type": "stream",
     "text": [
      "Not matched\n",
      "Not matched\n",
      "Found a match!\n"
     ]
    }
   ],
   "source": [
    "# Solution\n",
    "def text_match(text):\n",
    "  if re.search(r\"a.*b$\", text) != None:\n",
    "    return \"Found a match!\"\n",
    "  else:\n",
    "    return \"Not matched\"\n",
    "\n",
    "print(text_match(\"aabbbbd\"))  # Not matched\n",
    "print(text_match(\"aabAbbbc\"))  # Not matched\n",
    "print(text_match(\"accddbbjjjb\"))  # Found a match!"
   ]
  },
  {
   "cell_type": "markdown",
   "metadata": {
    "id": "0oHZnx0Gos3i"
   },
   "source": [
    "10) Write a Python program that matches a word at the beginning of a string."
   ]
  },
  {
   "cell_type": "code",
   "execution_count": 118,
   "metadata": {
    "id": "1tlZiGMaos3j"
   },
   "outputs": [
    {
     "name": "stdout",
     "output_type": "stream",
     "text": [
      "Found a match!\n",
      "Not matched\n"
     ]
    }
   ],
   "source": [
    "# Solution\n",
    "def text_match(text):\n",
    "  if re.search(r\"^\\w+\", text) != None:\n",
    "    return \"Found a match!\"\n",
    "  else:\n",
    "    return \"Not matched\"\n",
    "\n",
    "print(text_match(\"The quick brown fox jumps over the lazy dog.\"))  # Found a match!\n",
    "print(text_match(\" The quick brown fox jumps over the lazy dog.\"))  # Not matched"
   ]
  },
  {
   "cell_type": "markdown",
   "metadata": {
    "id": "mG0jspZFos3j"
   },
   "source": [
    "11) Write a Python program that matches a word at the end of string, with optional punctuation."
   ]
  },
  {
   "cell_type": "code",
   "execution_count": 119,
   "metadata": {
    "id": "cmhnhbZnos3j"
   },
   "outputs": [
    {
     "name": "stdout",
     "output_type": "stream",
     "text": [
      "Found a match!\n",
      "Not matched\n",
      "Not matched\n"
     ]
    }
   ],
   "source": [
    "# Solution\n",
    "def text_match(text):\n",
    "  if re.search(r\"\\w+[.!?]?$\", text) != None:\n",
    "    return \"Found a match!\"\n",
    "  else:\n",
    "    return \"Not matched\"\n",
    "\n",
    "print(text_match(\"The quick brown fox jumps over the lazy dog.\"))  # Found a match!\n",
    "print(text_match(\"The quick brown fox jumps over the lazy dog. \"))  # Not matched\n",
    "print(text_match(\"The quick brown fox jumps over the lazy dog \"))  # Not matched"
   ]
  },
  {
   "cell_type": "markdown",
   "metadata": {
    "id": "DBgbyYHXos3k"
   },
   "source": [
    "12) Write a Python program that matches a word containing 'z'"
   ]
  },
  {
   "cell_type": "code",
   "execution_count": 120,
   "metadata": {
    "id": "WxuMRyCbos3k"
   },
   "outputs": [
    {
     "name": "stdout",
     "output_type": "stream",
     "text": [
      "Found a match!\n",
      "Not matched\n"
     ]
    }
   ],
   "source": [
    "# Solution\n",
    "def text_match(text):\n",
    "  if re.search(r\"z\", text) != None:\n",
    "    return \"Found a match!\"\n",
    "  else:\n",
    "    return \"Not matched\"\n",
    "  \n",
    "print(text_match(\"The quick brown fox jumps over the lazy dog.\"))  # Found a match!\n",
    "print(text_match(\"Python Exercises.\"))  # Not matched"
   ]
  },
  {
   "cell_type": "markdown",
   "metadata": {
    "id": "V_9_nk8Kos3l"
   },
   "source": [
    "13) Write a Python program that matches a word containing 'z', not at the start or end of the word."
   ]
  },
  {
   "cell_type": "code",
   "execution_count": 121,
   "metadata": {
    "id": "VEhCCh7yos3l"
   },
   "outputs": [
    {
     "name": "stdout",
     "output_type": "stream",
     "text": [
      "Found a match!\n",
      "Not matched\n"
     ]
    }
   ],
   "source": [
    "# Solution\n",
    "def text_match(text):\n",
    "  if re.search(r\"^[^z].*z.*[^z]$\", text):\n",
    "      return \"Found a match!\"\n",
    "  else:\n",
    "    return \"Not matched\"\n",
    "\n",
    "print(text_match(\"The quick brown fox jumps over the lazy dog.\"))  # Found a match!\n",
    "print(text_match(\"Python Exercises.\"))  # Not matched"
   ]
  },
  {
   "cell_type": "markdown",
   "metadata": {
    "id": "L0lV07OCos3m"
   },
   "source": [
    "14) Write a Python program to match a string that contains only upper and lowercase letters, numbers, and underscores."
   ]
  },
  {
   "cell_type": "code",
   "execution_count": 122,
   "metadata": {
    "id": "E9NcoWDhos3m"
   },
   "outputs": [
    {
     "name": "stdout",
     "output_type": "stream",
     "text": [
      "Not matched\n",
      "Found a match!\n"
     ]
    }
   ],
   "source": [
    "# Solution\n",
    "def text_match(text):\n",
    "  if re.search(r\"^[A-Za-z0-9_]+$\", text) != None:\n",
    "    return \"Found a match!\"\n",
    "  else:\n",
    "    return \"Not matched\"\n",
    "\n",
    "print(text_match(\"The quick brown fox jumps over the lazy dog.\"))  # Not matched\n",
    "print(text_match(\"Python_Exercises_1\"))  # Found a match!"
   ]
  },
  {
   "cell_type": "markdown",
   "metadata": {
    "id": "EvKJ8WOoos3n"
   },
   "source": [
    "15) Write a Python program where a string will start with a specific number. "
   ]
  },
  {
   "cell_type": "code",
   "execution_count": 123,
   "metadata": {
    "id": "nWp5QysTos3n"
   },
   "outputs": [
    {
     "name": "stdout",
     "output_type": "stream",
     "text": [
      "True\n",
      "False\n"
     ]
    }
   ],
   "source": [
    "# Solution\n",
    "def match_num(string):\n",
    "  if re.search(r\"^5\", string) != None:\n",
    "    return True\n",
    "  else:\n",
    "    return False\n",
    "  \n",
    "print(match_num('5-2345861')) # True\n",
    "print(match_num('6-2345861')) # False"
   ]
  },
  {
   "cell_type": "markdown",
   "metadata": {
    "id": "r_I1cbvios3t"
   },
   "source": [
    "16) Write a Python program to remove leading zeros from an IP address"
   ]
  },
  {
   "cell_type": "code",
   "execution_count": 124,
   "metadata": {
    "id": "cRLX4hc3os3u"
   },
   "outputs": [
    {
     "name": "stdout",
     "output_type": "stream",
     "text": [
      "216.8.94.196\n"
     ]
    }
   ],
   "source": [
    "# Solution\n",
    "def rewrite_ip(ip):\n",
    "  address_nums = re.findall(r'\\d+', ip)\n",
    "  for i in range(len(address_nums)):\n",
    "    address_nums[i] = str(address_nums[i]).strip('0')\n",
    "  return '.'.join(address_nums)\n",
    "    \n",
    "ip = \"216.08.094.196\"\n",
    "string = rewrite_ip(ip)\n",
    "print(string) # 216.8.94.196"
   ]
  },
  {
   "cell_type": "markdown",
   "metadata": {
    "id": "ZCn9r3o2os3u"
   },
   "source": [
    "17) Write a Python program to check for a number at the end of a string."
   ]
  },
  {
   "cell_type": "code",
   "execution_count": 125,
   "metadata": {
    "id": "Q5t9U6n8os3u"
   },
   "outputs": [
    {
     "name": "stdout",
     "output_type": "stream",
     "text": [
      "False\n",
      "True\n"
     ]
    }
   ],
   "source": [
    "# Solution\n",
    "def end_num(string):\n",
    "  if re.search(r'\\d$', string) != None:\n",
    "    return True\n",
    "  else:\n",
    "    return False\n",
    "\n",
    "print(end_num('abcdef'))  # False\n",
    "print(end_num('abcdef6')) # True"
   ]
  },
  {
   "cell_type": "markdown",
   "metadata": {
    "id": "0tM4eW8Wos3v"
   },
   "source": [
    "18) Write a Python program to search the numbers (0-9) of length between 1 to 3 in a given string. "
   ]
  },
  {
   "cell_type": "code",
   "execution_count": 126,
   "metadata": {
    "id": "7QGwzVxDos3v"
   },
   "outputs": [
    {
     "name": "stdout",
     "output_type": "stream",
     "text": [
      "Number of Length 1 to 3\n",
      "1\n",
      "12\n",
      "13\n",
      "345\n"
     ]
    }
   ],
   "source": [
    "# Solution\n",
    "def print_digits(string):\n",
    "  print(\"Number of Length 1 to 3\")\n",
    "  for num in re.findall(r'\\d{1,3}', string):\n",
    "    print(num) \n",
    "\n",
    "string = \"Exercises number 1, 12, 13, and 345 are important\"\n",
    "print_digits(string)\n",
    "# Number of length 1 to 3\n",
    "# 1\n",
    "# 12\n",
    "# 13\n",
    "# 345"
   ]
  },
  {
   "cell_type": "markdown",
   "metadata": {
    "id": "43nNb7d_os3v"
   },
   "source": [
    "19) Write a Python program to search some literals strings in a string. \n",
    "Sample text : 'The quick brown fox jumps over the lazy dog.'\n",
    "Searched words : 'fox', 'dog', 'horse'"
   ]
  },
  {
   "cell_type": "code",
   "execution_count": 127,
   "metadata": {
    "id": "KIVHxWN9os3w"
   },
   "outputs": [
    {
     "name": "stdout",
     "output_type": "stream",
     "text": [
      "Searching for \"fox\" in \"The quick brown fox jumps over the lazy dog.\" ->\n",
      "Matched!\n",
      "Searching for \"dog\" in \"The quick brown fox jumps over the lazy dog.\" ->\n",
      "Matched!\n",
      "Searching for \"horse\" in \"The quick brown fox jumps over the lazy dog.\" ->\n",
      "Not Matched!\n"
     ]
    }
   ],
   "source": [
    "# Solution\n",
    "def print_match(patterns, text):\n",
    "  for pattern in patterns:\n",
    "    print(f'Searching for \"{pattern}\" in \"{text}\" ->')\n",
    "    if re.search(pattern, text) != None:\n",
    "        print(\"Matched!\")\n",
    "    else:\n",
    "        print(\"Not Matched!\")\n",
    "\n",
    "patterns = [ 'fox', 'dog', 'horse' ]\n",
    "text = 'The quick brown fox jumps over the lazy dog.'\n",
    "print_match(patterns, text)\n",
    "# Searching for \"fox\" in \"The quick brown fox jumps over the lazy dog.\" ->\n",
    "# Matched!\n",
    "# Searching for \"dog\" in \"The quick brown fox jumps over the lazy dog.\" ->\n",
    "# Matched!\n",
    "# Searching for \"horse\" in \"The quick brown fox jumps over the lazy dog.\" ->\n",
    "# Not Matched!"
   ]
  },
  {
   "cell_type": "markdown",
   "metadata": {
    "id": "XjdROmMhos3w"
   },
   "source": [
    "20) Write a Python program to search a literals string in a string and also find the location within the original string where the pattern occurs\n",
    "\n",
    "Sample text : 'The quick brown fox jumps over the lazy dog.'\n",
    "Searched words : 'fox'"
   ]
  },
  {
   "cell_type": "code",
   "execution_count": 128,
   "metadata": {
    "id": "vWViImYios3w"
   },
   "outputs": [
    {
     "name": "stdout",
     "output_type": "stream",
     "text": [
      "Found \"fox\" in \"The quick brown fox jumps over the lazy dog.\" from 16 to 19\n"
     ]
    }
   ],
   "source": [
    "# Solution\n",
    "def print_match_location(pattern, text):\n",
    "  spanlow, spanhigh = re.search(pattern, text).span()\n",
    "  print(f'Found \"{pattern}\" in \"{text}\" from {spanlow} to {spanhigh}')\n",
    "\n",
    "pattern = 'fox'\n",
    "text = 'The quick brown fox jumps over the lazy dog.'\n",
    "print_match_location(pattern, text)\n",
    "# Found \"fox\" in \"The quick brown fox jumps over the lazy dog.\" from 16 to 19"
   ]
  },
  {
   "cell_type": "markdown",
   "metadata": {
    "id": "lLRotk-Oos3x"
   },
   "source": [
    "21) Write a Python program to find the substrings within a string.\n",
    "\n",
    "Sample text :\n",
    "\n",
    "'Python exercises, PHP exercises, C# exercises'\n",
    "\n",
    "Pattern :\n",
    "\n",
    "'exercises'\n",
    "\n",
    "Note: There are three instances of exercises in the input string."
   ]
  },
  {
   "cell_type": "code",
   "execution_count": 129,
   "metadata": {
    "id": "XU8613rTos3x"
   },
   "outputs": [
    {
     "name": "stdout",
     "output_type": "stream",
     "text": [
      "Found \"exercises\"\n",
      "Found \"exercises\"\n",
      "Found \"exercises\"\n",
      "\n"
     ]
    }
   ],
   "source": [
    "# Solution\n",
    "def find_all_matches(pattern, text):\n",
    "  print(f'Found \"{pattern}\"\\n' * len(re.findall(pattern, text)))\n",
    "\n",
    "text = 'Python exercises, PHP exercises, C# exercises'\n",
    "pattern = 'exercises'\n",
    "find_all_matches(pattern, text)\n",
    "# Found \"exercises\"\n",
    "# Found \"exercises\"\n",
    "# Found \"exercises\""
   ]
  },
  {
   "cell_type": "markdown",
   "metadata": {
    "id": "uvAY6v7Oos3x"
   },
   "source": [
    "22) Write a Python program to find the occurrence and position of the substrings within a string."
   ]
  },
  {
   "cell_type": "code",
   "execution_count": 130,
   "metadata": {
    "id": "UFg6rXJnos3y"
   },
   "outputs": [
    {
     "name": "stdout",
     "output_type": "stream",
     "text": [
      "found exercises at 7:16\n",
      "found exercises at 22:31\n",
      "found exercises at 36:45\n"
     ]
    }
   ],
   "source": [
    "# Solution\n",
    "def find_all_matches_location(pattern, text):\n",
    "  count = 0\n",
    "  while re.search(pattern, text) != None:\n",
    "    low, high = re.search(pattern, text).span()\n",
    "    print(f'found {pattern} at {low + count}:{high + count}')\n",
    "    count += high\n",
    "    text = text[high:]\n",
    "    \n",
    "\n",
    "\n",
    "text = 'Python exercises, PHP exercises, C# exercises'\n",
    "pattern = 'exercises'\n",
    "find_all_matches_location(pattern, text)\n",
    "# Found \"exercises\" at 7:16\n",
    "# Found \"exercises\" at 22:31\n",
    "# Found \"exercises\" at 36:45"
   ]
  },
  {
   "cell_type": "markdown",
   "metadata": {
    "id": "Sb3zKxE-os3y"
   },
   "source": [
    "23) Write a Python program to replace whitespaces with an underscore and vice versa."
   ]
  },
  {
   "cell_type": "code",
   "execution_count": 131,
   "metadata": {
    "id": "nUxR5Xvjos3z"
   },
   "outputs": [
    {
     "name": "stdout",
     "output_type": "stream",
     "text": [
      "Python_Exercises\n",
      "Python Exercises\n"
     ]
    }
   ],
   "source": [
    "text = 'Python Exercises'\n",
    "\n",
    "text = re.sub(' ', '_', text)\n",
    "\n",
    "print(text) # Python_Exercises\n",
    "\n",
    "text = re.sub('_', ' ', text)\n",
    "\n",
    "print(text) # Python Exercises"
   ]
  },
  {
   "cell_type": "markdown",
   "metadata": {
    "id": "grqoW-pgos3z"
   },
   "source": [
    "24) Write a Python program to extract year, month and date from a an url. "
   ]
  },
  {
   "cell_type": "code",
   "execution_count": 132,
   "metadata": {
    "id": "K2-pacqmos3z"
   },
   "outputs": [
    {
     "name": "stdout",
     "output_type": "stream",
     "text": [
      "[('2016', '09', '02')]\n"
     ]
    }
   ],
   "source": [
    "# Solution\n",
    "def extract_date(url):\n",
    "  return [tuple(re.findall(r'[1-2][0-9]{3}|[0-1][0-9]|[0-3][0-9]', url))]\n",
    "  \n",
    "url1= \"https://www.washingtonpost.com/news/football-insider/wp/2016/09/02/odell-beckhams-fame-rests-on-one-stupid-little-ball-josh-norman-tells-author/\"\n",
    "print(extract_date(url1)) # [('2016', '09', '02')]"
   ]
  },
  {
   "cell_type": "markdown",
   "metadata": {
    "id": "gyD5AZW7os3z"
   },
   "source": [
    "25) Write a Python program to convert a date of yyyy-mm-dd format to dd-mm-yyyy format."
   ]
  },
  {
   "cell_type": "code",
   "execution_count": 133,
   "metadata": {
    "id": "bo-jpYqZos30"
   },
   "outputs": [
    {
     "name": "stdout",
     "output_type": "stream",
     "text": [
      "Original date in YYY-MM-DD Format:  2026-01-02\n",
      "New date in DD-MM-YYYY Format:  02-01-2026\n"
     ]
    }
   ],
   "source": [
    "# Solution\n",
    "def change_date_format(dt):\n",
    "  return re.sub(r'(\\d+)(-\\d+-)(\\d+)', r'\\3\\2\\1', dt)\n",
    "\n",
    "dt1 = \"2026-01-02\"\n",
    "print(\"Original date in YYY-MM-DD Format: \",dt1)  # Original date in YYY-MM-DD Format:  2026-01-02\n",
    "print(\"New date in DD-MM-YYYY Format: \",change_date_format(dt1))  # New date in DD-MM-YYYY Format:  02-01-2026"
   ]
  },
  {
   "cell_type": "markdown",
   "metadata": {
    "id": "IQ2SNL-gos30"
   },
   "source": [
    "26) Write a Python program to match if any words from a list of words starting with letter 'P'."
   ]
  },
  {
   "cell_type": "code",
   "execution_count": 134,
   "metadata": {
    "id": "2hP4Twe0os31"
   },
   "outputs": [
    {
     "data": {
      "text/plain": [
       "['P', ' P']"
      ]
     },
     "execution_count": 134,
     "metadata": {},
     "output_type": "execute_result"
    }
   ],
   "source": [
    "# Sample strings.\n",
    "def print_words_starting_with_P(words):\n",
    "    p_words = [re.findall('^[Pp]| [Pp]', word) for word in words if re.search('^[Pp]| [Pp]', word) != None]\n",
    "    return sum(p_words, [])\n",
    "    \n",
    "words = [\"Python PHP\", \"Java JavaScript\", \"c c++\"]\n",
    "print_words_starting_with_P(words)  # ('Python', 'PHP')"
   ]
  },
  {
   "cell_type": "markdown",
   "metadata": {
    "id": "MEUMKMn0os31"
   },
   "source": [
    "27) Write a Python program to separate and print the numbers of a given string."
   ]
  },
  {
   "cell_type": "code",
   "execution_count": 135,
   "metadata": {
    "id": "xG8c9PtUos32"
   },
   "outputs": [
    {
     "name": "stdout",
     "output_type": "stream",
     "text": [
      "10\n",
      "20\n",
      "30\n"
     ]
    }
   ],
   "source": [
    "# Solution\n",
    "def print_all_numbers(text):\n",
    "  for number in re.findall(r'\\d+', text):\n",
    "    print(number)\n",
    "\n",
    "# Sample string.\n",
    "text = \"Ten 10, Twenty 20, Thirty 30\"\n",
    "print_all_numbers(text)\n",
    "# 10\n",
    "# 20\n",
    "# 30"
   ]
  },
  {
   "cell_type": "markdown",
   "metadata": {
    "id": "krdKu3Mvos32"
   },
   "source": [
    "28) Write a Python program to find all words starting with 'a' or 'e' in a given string."
   ]
  },
  {
   "cell_type": "code",
   "execution_count": 136,
   "metadata": {
    "id": "3hsR5278os32"
   },
   "outputs": [
    {
     "name": "stdout",
     "output_type": "stream",
     "text": [
      "['example', 'eates', 'an', 'ayList', 'apacity', 'elements', 'elements', 'are', 'en', 'added', 'ayList', 'and', 'ayList', 'ed', 'accordingly']\n"
     ]
    }
   ],
   "source": [
    "# Solution\n",
    "def get_all_words_containing_a_or_e(text):\n",
    "  return re.findall(r'[ae]\\w+', text)\n",
    "\n",
    "\n",
    "# Input.\n",
    "text = \"The following example creates an ArrayList with a capacity of 50 elements. Four elements are then added to the ArrayList and the ArrayList is trimmed accordingly.\"\n",
    "print(get_all_words_containing_a_or_e(text))\n",
    "# ['example', 'eates', 'an', 'ayList', 'apacity', 'elements', 'elements', 'are', 'en', 'added', 'ayList', 'and', 'ayList', 'ed', 'accordingly']"
   ]
  },
  {
   "cell_type": "markdown",
   "metadata": {
    "id": "CxfIZ5o9os33"
   },
   "source": [
    "29) Write a Python program to separate and print the numbers and their position of a given string."
   ]
  },
  {
   "cell_type": "code",
   "execution_count": 137,
   "metadata": {
    "id": "XIuiRvmAos33"
   },
   "outputs": [
    {
     "name": "stdout",
     "output_type": "stream",
     "text": [
      "50\n",
      "Index position: 62\n"
     ]
    }
   ],
   "source": [
    "# Solution\n",
    "def print_all_numbers_and_their_position(text):\n",
    "  match = re.search(r'\\d+', text)\n",
    "  print(match.group())\n",
    "  print(f\"Index position: {match.span()[0]}\")\n",
    "\n",
    "# Input.\n",
    "text = \"The following example creates an ArrayList with a capacity of 50 elements. Four elements are then added to the ArrayList and the ArrayList is trimmed accordingly.\"\n",
    "print_all_numbers_and_their_position(text)\n",
    "# 50\n",
    "# Index position: 62"
   ]
  },
  {
   "cell_type": "markdown",
   "metadata": {
    "id": "JguO0fUjos34"
   },
   "source": [
    "30) Write a Python program to abbreviate 'Road' as 'Rd.' in a given string."
   ]
  },
  {
   "cell_type": "code",
   "execution_count": 138,
   "metadata": {
    "id": "VJE1Xm2Bos34"
   },
   "outputs": [
    {
     "name": "stdout",
     "output_type": "stream",
     "text": [
      "21 Ramkrishna Rd.\n"
     ]
    }
   ],
   "source": [
    "# Solution\n",
    "def abbreviate_road(street):\n",
    "  return re.sub(r'\\w+$', r'Rd.', street)\n",
    "\n",
    "street = '21 Ramkrishna Road'\n",
    "\n",
    "print(abbreviate_road(street))  # 21 Ramkrishna Rd.\n"
   ]
  }
 ],
 "metadata": {
  "colab": {
   "collapsed_sections": [],
   "name": "Copy of regex-exercises.ipynb",
   "provenance": []
  },
  "kernelspec": {
   "display_name": "Python 3 (ipykernel)",
   "language": "python",
   "name": "python3"
  },
  "language_info": {
   "codemirror_mode": {
    "name": "ipython",
    "version": 3
   },
   "file_extension": ".py",
   "mimetype": "text/x-python",
   "name": "python",
   "nbconvert_exporter": "python",
   "pygments_lexer": "ipython3",
   "version": "3.7.3"
  }
 },
 "nbformat": 4,
 "nbformat_minor": 1
}
